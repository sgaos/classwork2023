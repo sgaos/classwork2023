{
 "cells": [
  {
   "cell_type": "code",
   "execution_count": 1,
   "id": "8bb220e9",
   "metadata": {},
   "outputs": [],
   "source": [
    "import numpy as np"
   ]
  },
  {
   "cell_type": "code",
   "execution_count": 4,
   "id": "4cf80888",
   "metadata": {},
   "outputs": [],
   "source": [
    "x = np.array([1,-3,9,7])"
   ]
  },
  {
   "cell_type": "code",
   "execution_count": 5,
   "id": "bdc5df48",
   "metadata": {},
   "outputs": [
    {
     "name": "stdout",
     "output_type": "stream",
     "text": [
      "[ 1 -3  9  7]\n"
     ]
    }
   ],
   "source": [
    "print(x) "
   ]
  },
  {
   "cell_type": "code",
   "execution_count": 9,
   "id": "ae2e5847",
   "metadata": {},
   "outputs": [],
   "source": [
    "p_list = [1,3,9,7]"
   ]
  },
  {
   "cell_type": "code",
   "execution_count": 7,
   "id": "41a68d00",
   "metadata": {},
   "outputs": [
    {
     "name": "stdout",
     "output_type": "stream",
     "text": [
      "[1, 3, 9, 7]\n"
     ]
    }
   ],
   "source": [
    "print(p_list)"
   ]
  },
  {
   "cell_type": "code",
   "execution_count": 16,
   "id": "973d6c06",
   "metadata": {},
   "outputs": [],
   "source": [
    "in_file = open(\"signal.txt\", 'r')\n"
   ]
  },
  {
   "cell_type": "code",
   "execution_count": 19,
   "id": "abdbeae4",
   "metadata": {},
   "outputs": [
    {
     "data": {
      "text/plain": [
       "''"
      ]
     },
     "execution_count": 19,
     "metadata": {},
     "output_type": "execute_result"
    }
   ],
   "source": [
    "in_file.read(1)"
   ]
  },
  {
   "cell_type": "code",
   "execution_count": 18,
   "id": "5d535b9f",
   "metadata": {},
   "outputs": [
    {
     "data": {
      "text/plain": [
       "['22323rexq2']"
      ]
     },
     "execution_count": 18,
     "metadata": {},
     "output_type": "execute_result"
    }
   ],
   "source": [
    "in_file.readlines()"
   ]
  }
 ],
 "metadata": {
  "kernelspec": {
   "display_name": "Python 3 (ipykernel)",
   "language": "python",
   "name": "python3"
  },
  "language_info": {
   "codemirror_mode": {
    "name": "ipython",
    "version": 3
   },
   "file_extension": ".py",
   "mimetype": "text/x-python",
   "name": "python",
   "nbconvert_exporter": "python",
   "pygments_lexer": "ipython3",
   "version": "3.9.13"
  }
 },
 "nbformat": 4,
 "nbformat_minor": 5
}
