{
 "cells": [
  {
   "cell_type": "markdown",
   "metadata": {},
   "source": [
    "# NumPy\n",
    "## Introduction\n",
    "NumPy is a Python package for scientific computing that contains:\n",
    "* multi-dimensional arrays and supporting functions\n",
    "* basic linear algebra functions\n",
    "* basic Fourier transforms\n",
    "\n",
    "NumPy is intended to improve ease and efficiency of data handling and calculation."
   ]
  },
  {
   "cell_type": "markdown",
   "metadata": {},
   "source": [
    "## Instructions\n",
    "Read through this Jupyter Notebook.  Execute the code cells to see the result.  Feel free to modify these cells, or add new cells, to experiment with the functionality.  \n",
    "\n",
    "In the **Task** sections, add the necessary code to complete the task."
   ]
  },
  {
   "cell_type": "markdown",
   "metadata": {},
   "source": [
    "## Importing NumPy\n",
    "NumPy is a package that must be installed in your virtual environment.  `numpy` is the package name for installation.  Once installed, it is imported into your Python code as follows:"
   ]
  },
  {
   "cell_type": "code",
   "execution_count": 1,
   "metadata": {},
   "outputs": [],
   "source": [
    "import numpy as np"
   ]
  },
  {
   "cell_type": "markdown",
   "metadata": {},
   "source": [
    "The `np` alias is frequently used as a short cut, so calls can be made such as `a = np.array([0, 1, 2, 3])`"
   ]
  },
  {
   "cell_type": "markdown",
   "metadata": {},
   "source": [
    "## Creating NumPy Arrays\n",
    "### `array()`\n",
    "If you have an array like structure in Python, such as a list, it can be converted into a NumPy array as follows:"
   ]
  },
  {
   "cell_type": "code",
   "execution_count": 2,
   "metadata": {},
   "outputs": [
    {
     "name": "stdout",
     "output_type": "stream",
     "text": [
      "a is variable type <class 'list'>\n",
      "b is variable type <class 'numpy.ndarray'>\n"
     ]
    }
   ],
   "source": [
    "a = [0, 2, 10, -3, 2.5]  # A python list\n",
    "print(\"a is variable type {}\".format(type(a)))\n",
    "\n",
    "b = np.array(a)\n",
    "print(\"b is variable type {}\".format(type(b)))"
   ]
  },
  {
   "cell_type": "markdown",
   "metadata": {},
   "source": [
    "Note that the type of variable contained in the array will depend on the data used to create the array."
   ]
  },
  {
   "cell_type": "code",
   "execution_count": 3,
   "metadata": {},
   "outputs": [
    {
     "name": "stdout",
     "output_type": "stream",
     "text": [
      "The 'c' numpy array is [0 1 2]\n",
      "The type of variable in the 'c' array is <class 'numpy.int64'>\n",
      "The 'd' numpy array is [0.  1.  2.4]\n",
      "The type of variable in the 'd' array is <class 'numpy.float64'>\n",
      "The 'd1' numpy array is ['hello' 'goodbye']\n",
      "The  type of variable in the 'd1' array is <class 'numpy.str_'>\n"
     ]
    }
   ],
   "source": [
    "c = np.array([0, 1, 2])\n",
    "print(\"The 'c' numpy array is {}\".format(c))\n",
    "print(\"The type of variable in the 'c' array is {}\".format(type(c[0])))\n",
    "\n",
    "d = np.array([0, 1, 2.4])\n",
    "print(\"The 'd' numpy array is {}\".format(d))\n",
    "print(\"The type of variable in the 'd' array is {}\".format(type(d[0])))\n",
    "\n",
    "d1 = np.array([\"hello\", \"goodbye\"])\n",
    "print(\"The 'd1' numpy array is {}\".format(d1))\n",
    "print(\"The  type of variable in the 'd1' array is {}\".format(type(d1[0])))"
   ]
  },
  {
   "cell_type": "markdown",
   "metadata": {},
   "source": [
    "Note that integers are printed without a decimal point by NumPy.  Floats are printed with the decimal point.\n",
    "\n",
    "Also, it is not common for strings to be used in NumPy arrays as the mathmatical functions in NumPy don't\n",
    "provide much benefit for strings.  But, they can be used.\n",
    "\n",
    "### `zeros()` and `ones()`\n",
    "These two NumPy functions will create a new array filled with either zeros or ones of type `float`"
   ]
  },
  {
   "cell_type": "code",
   "execution_count": 4,
   "metadata": {},
   "outputs": [
    {
     "name": "stdout",
     "output_type": "stream",
     "text": [
      "[0. 0. 0. 0. 0.]\n",
      "[1. 1. 1. 1. 1. 1. 1. 1.]\n"
     ]
    }
   ],
   "source": [
    "e = np.zeros(5)\n",
    "f = np.ones(8)\n",
    "print(e)\n",
    "print(f)"
   ]
  },
  {
   "cell_type": "markdown",
   "metadata": {},
   "source": [
    "### `arange()`\n",
    "The `arange()` function in NumPy will create an array with regularly incrementing values.  Examples:"
   ]
  },
  {
   "cell_type": "code",
   "execution_count": 5,
   "metadata": {},
   "outputs": [
    {
     "name": "stdout",
     "output_type": "stream",
     "text": [
      "[0 1 2 3 4 5 6 7 8 9]\n",
      "[2.  2.2 2.4 2.6 2.8 3.  3.2 3.4 3.6 3.8]\n"
     ]
    }
   ],
   "source": [
    "g = np.arange(10)\n",
    "print(g)\n",
    "\n",
    "h = np.arange(2, 4, 0.2)\n",
    "print(h)"
   ]
  },
  {
   "cell_type": "markdown",
   "metadata": {},
   "source": [
    "### Task\n",
    "In the cell below,\n",
    "\n",
    "a. generate a NumPy array of the odd numbers from 3 to 13\n",
    "\n",
    "b. generate a NumPy array counting down from 10 to 0"
   ]
  },
  {
   "cell_type": "code",
   "execution_count": 12,
   "metadata": {},
   "outputs": [
    {
     "name": "stdout",
     "output_type": "stream",
     "text": [
      "[ 3  5  7  9 11 13]\n",
      "[10  9  8  7  6  5  4  3  2  1  0]\n"
     ]
    }
   ],
   "source": [
    "# Enter your code here\n",
    "\n",
    "a = np.arange(3, 14, 2)\n",
    "print(a)\n",
    "\n",
    "b = np.arange(10, -1, -1)\n",
    "print(b)\n"
   ]
  },
  {
   "cell_type": "markdown",
   "metadata": {},
   "source": [
    "### `linspace()`\n",
    "As its name implies, `linspace(a, b, c)` creates an array of linearly spaced values between two given values (`a` and `b`) and the number of elements in the array is specified by a third value (`c`).  Example:"
   ]
  },
  {
   "cell_type": "code",
   "execution_count": 13,
   "metadata": {},
   "outputs": [
    {
     "name": "stdout",
     "output_type": "stream",
     "text": [
      "[1.  1.6 2.2 2.8 3.4 4. ]\n"
     ]
    }
   ],
   "source": [
    "i = np.linspace(1, 4, 6)\n",
    "print(i)"
   ]
  },
  {
   "cell_type": "markdown",
   "metadata": {},
   "source": [
    "In the example above, an array of 6 members is generated with equally spaced values from 1 to 4."
   ]
  },
  {
   "cell_type": "markdown",
   "metadata": {},
   "source": [
    "### Task\n",
    "In the cell below, generate a list of 15 numbers equally spaced from 10 to 20."
   ]
  },
  {
   "cell_type": "code",
   "execution_count": 15,
   "metadata": {},
   "outputs": [
    {
     "name": "stdout",
     "output_type": "stream",
     "text": [
      "[10.         10.71428571 11.42857143 12.14285714 12.85714286 13.57142857\n",
      " 14.28571429 15.         15.71428571 16.42857143 17.14285714 17.85714286\n",
      " 18.57142857 19.28571429 20.        ]\n"
     ]
    }
   ],
   "source": [
    "# Enter your code here\n",
    "i = np.linspace(10, 20, 15)\n",
    "print(i)"
   ]
  },
  {
   "cell_type": "markdown",
   "metadata": {},
   "source": [
    "## Multi-Dimensional Arrays\n",
    "One of the improved functionality of NumPy arrays versus typical Python data structures is the ability to create multi-dimensional arrays."
   ]
  },
  {
   "cell_type": "code",
   "execution_count": 16,
   "metadata": {},
   "outputs": [
    {
     "name": "stdout",
     "output_type": "stream",
     "text": [
      "A one dimensional array:\n",
      "[0. 0. 0. 0. 0. 0. 0. 0. 0. 0.]\n",
      "A two dimensional array:\n",
      "[[0. 0. 0. 0. 0.]\n",
      " [0. 0. 0. 0. 0.]\n",
      " [0. 0. 0. 0. 0.]]\n"
     ]
    }
   ],
   "source": [
    "one_d = np.zeros(10)\n",
    "two_d = np.zeros((3, 5))  # Note that a tuple is required when more than 1 dimension is given\n",
    "\n",
    "print(\"A one dimensional array:\")\n",
    "print(one_d)\n",
    "print(\"A two dimensional array:\")\n",
    "print(two_d)"
   ]
  },
  {
   "cell_type": "markdown",
   "metadata": {},
   "source": [
    "## Array Indexing\n",
    "### 1-D arrays\n",
    "Similar to lists in Python, the elements in a NumPy array are referenced using `[]` with the first element being 0.\n",
    "Example:"
   ]
  },
  {
   "cell_type": "code",
   "execution_count": 17,
   "metadata": {},
   "outputs": [
    {
     "name": "stdout",
     "output_type": "stream",
     "text": [
      "2\n",
      "5\n"
     ]
    }
   ],
   "source": [
    "j = np.array([2, 3, 4, 5, 6, 7, 8, 9])\n",
    "print(j[0])\n",
    "print(j[3])"
   ]
  },
  {
   "cell_type": "markdown",
   "metadata": {},
   "source": [
    "You can also count backwards from the end of the array with the `-1` index being the last element of the array."
   ]
  },
  {
   "cell_type": "code",
   "execution_count": 18,
   "metadata": {},
   "outputs": [
    {
     "name": "stdout",
     "output_type": "stream",
     "text": [
      "9\n",
      "7\n"
     ]
    }
   ],
   "source": [
    "print(j[-1])\n",
    "print(j[-3])"
   ]
  },
  {
   "cell_type": "markdown",
   "metadata": {},
   "source": [
    "You can index sections of the array, such as `3:6`, that follows Python convention and returns the elements starting at 3 and ending with the element before 6."
   ]
  },
  {
   "cell_type": "code",
   "execution_count": 19,
   "metadata": {},
   "outputs": [
    {
     "name": "stdout",
     "output_type": "stream",
     "text": [
      "[5 6 7]\n"
     ]
    }
   ],
   "source": [
    "print(j[3:6])"
   ]
  },
  {
   "cell_type": "markdown",
   "metadata": {},
   "source": [
    "### Task\n",
    "In the cell below, \n",
    "* generate a one-dimentional NumPy array with all the multiples of 5 from 5 to 95\n",
    "* reference this array using an index to print out the value 35\n",
    "* reference this array to print out the values from 50 to 65"
   ]
  },
  {
   "cell_type": "code",
   "execution_count": 26,
   "metadata": {},
   "outputs": [
    {
     "name": "stdout",
     "output_type": "stream",
     "text": [
      "[ 5 10 15 20 25 30 35 40 45 50 55 60 65 70 75 80 85 90 95]\n",
      "35\n",
      "[50 55 60 65]\n"
     ]
    }
   ],
   "source": [
    "# Enter your code here\n",
    "a = np.arange(5, 96, 5)\n",
    "print(a)\n",
    "\n",
    "print(a[6])\n",
    "print(a[9:13])"
   ]
  },
  {
   "cell_type": "markdown",
   "metadata": {},
   "source": [
    "### 2-D arrays\n",
    "See the various examples below for indexing two-dimensional arrays."
   ]
  },
  {
   "cell_type": "code",
   "execution_count": 27,
   "metadata": {},
   "outputs": [
    {
     "name": "stdout",
     "output_type": "stream",
     "text": [
      "k is:\n",
      "[[ 0  1  2  3]\n",
      " [ 4  5  6  7]\n",
      " [ 8  9 10 11]\n",
      " [12 13 14 15]]\n",
      "\n",
      "k[1, 3] is 7\n",
      "k[3, 1] is 13\n",
      "k[2, -1] is 11\n",
      "k[2, :] is [ 8  9 10 11]\n",
      "k[:, 2] is [ 2  6 10 14]\n"
     ]
    }
   ],
   "source": [
    "k0 = [0, 1, 2, 3]\n",
    "k1 = [4, 5, 6, 7]\n",
    "k2 = [8, 9, 10, 11]\n",
    "k3 = [12, 13, 14, 15]\n",
    "k = np.array([k0, k1, k2, k3])\n",
    "print(\"k is:\")\n",
    "print(k)\n",
    "print(\"\")\n",
    "\n",
    "print('k[1, 3] is {}'.format(k[1, 3]))\n",
    "print('k[3, 1] is {}'.format(k[3, 1]))\n",
    "print('k[2, -1] is {}'.format(k[2, -1]))\n",
    "print('k[2, :] is {}'.format(k[2, :]))\n",
    "print('k[:, 2] is {}'.format(k[:, 2]))"
   ]
  },
  {
   "cell_type": "markdown",
   "metadata": {},
   "source": [
    "### Task\n",
    "In the cell below:\n",
    "* Generate and print a two-dimensional array that looks like this:\n",
    "```\n",
    "1 0 2\n",
    "2 1 1\n",
    "3 2 0\n",
    "```\n",
    "* Using an index to this array, print out the value `3`\n",
    "* Using an index to this array, print out the row `2 1 1`\n",
    "* Using an index to this array, print out the row\n",
    "```\n",
    "1\n",
    "2\n",
    "3\n",
    "```\n",
    "* If you want a challenge, write a loop to print out the diagonal `1 1 0`\n"
   ]
  },
  {
   "cell_type": "code",
   "execution_count": 33,
   "metadata": {},
   "outputs": [
    {
     "name": "stdout",
     "output_type": "stream",
     "text": [
      "[[1 0 2]\n",
      " [2 1 1]\n",
      " [3 2 0]]\n",
      "3\n",
      "[2 1 1]\n",
      "[1 2 3]\n",
      "1\n",
      "1\n",
      "0\n"
     ]
    }
   ],
   "source": [
    "# Enter your code here\n",
    "k0 = [1, 0, 2]\n",
    "k1 = [2, 1, 1]\n",
    "k2 = [3, 2, 0]\n",
    "k = np.array([k0, k1, k2])\n",
    "print(k)\n",
    "\n",
    "print(k[2,0])\n",
    "print(k[1,:])\n",
    "print(k[:,0])\n",
    "\n",
    "for i in [0, 1, 2]:\n",
    "    print(k[i, i])"
   ]
  },
  {
   "cell_type": "markdown",
   "metadata": {},
   "source": [
    "## Math on Arrays\n",
    "See some of the examples below for how math can be done on arrays."
   ]
  },
  {
   "cell_type": "code",
   "execution_count": 34,
   "metadata": {},
   "outputs": [
    {
     "name": "stdout",
     "output_type": "stream",
     "text": [
      "[0.  0.5 1.  1.5 2.  2.5 3.  3.5 4.  4.5]\n"
     ]
    }
   ],
   "source": [
    "x = np.arange(0, 5, 0.5)\n",
    "print(x)"
   ]
  },
  {
   "cell_type": "code",
   "execution_count": 35,
   "metadata": {},
   "outputs": [
    {
     "name": "stdout",
     "output_type": "stream",
     "text": [
      "[5.  5.5 6.  6.5 7.  7.5 8.  8.5 9.  9.5]\n"
     ]
    }
   ],
   "source": [
    "y = x + 5\n",
    "print(y)"
   ]
  },
  {
   "cell_type": "code",
   "execution_count": 36,
   "metadata": {},
   "outputs": [
    {
     "name": "stdout",
     "output_type": "stream",
     "text": [
      "[ 0.   2.5  5.   7.5 10.  12.5 15.  17.5 20.  22.5]\n"
     ]
    }
   ],
   "source": [
    "y = x * 5\n",
    "print(y)"
   ]
  },
  {
   "cell_type": "code",
   "execution_count": 37,
   "metadata": {},
   "outputs": [
    {
     "name": "stdout",
     "output_type": "stream",
     "text": [
      "[ 0.          0.47942554  0.84147098  0.99749499  0.90929743  0.59847214\n",
      "  0.14112001 -0.35078323 -0.7568025  -0.97753012]\n"
     ]
    }
   ],
   "source": [
    "y = np.sin(x)\n",
    "print(y)"
   ]
  },
  {
   "cell_type": "code",
   "execution_count": 38,
   "metadata": {},
   "outputs": [
    {
     "name": "stdout",
     "output_type": "stream",
     "text": [
      "[0. 2. 0. 2. 0. 6.]\n"
     ]
    }
   ],
   "source": [
    "x1 = np.array([0, 1, 0, 0.5, 0, 1])\n",
    "x2 = np.array([1, 2, 3, 4, 5, 6])\n",
    "y = x1 * x2\n",
    "print(y)\n"
   ]
  },
  {
   "cell_type": "code",
   "execution_count": 39,
   "metadata": {},
   "outputs": [
    {
     "name": "stdout",
     "output_type": "stream",
     "text": [
      "[ 0.          1.57079633  3.14159265  4.71238898  6.28318531  7.85398163\n",
      "  9.42477796 10.99557429 12.56637061 14.13716694]\n",
      "[  0.  90. 180. 270. 360. 450. 540. 630. 720. 810.]\n",
      "3.141592653589793\n"
     ]
    }
   ],
   "source": [
    "print(np.pi * x)\n",
    "print(np.degrees(np.pi * x))\n",
    "print(np.radians(180))"
   ]
  },
  {
   "cell_type": "markdown",
   "metadata": {},
   "source": [
    "### Task\n",
    "In the cell below,\n",
    "1. create and print an array with 10 elements that ranges from 0 to pi\n",
    "2. create and print an array with the sine of the values from step 1\n",
    "3. create and print an array with the cosine of the values from step 1\n",
    "4. create and print an array with the tangent of the values from step 1\n",
    "5. create and print an array where the step 2 array is divided by the step 3 array\n",
    "6. create and print an array with the difference between the step 5 array and the step 4 array "
   ]
  },
  {
   "cell_type": "code",
   "execution_count": 44,
   "metadata": {},
   "outputs": [
    {
     "name": "stdout",
     "output_type": "stream",
     "text": [
      "[0.         0.34906585 0.6981317  1.04719755 1.3962634  1.74532925\n",
      " 2.0943951  2.44346095 2.7925268  3.14159265]\n",
      "[0.00000000e+00 3.42020143e-01 6.42787610e-01 8.66025404e-01\n",
      " 9.84807753e-01 9.84807753e-01 8.66025404e-01 6.42787610e-01\n",
      " 3.42020143e-01 1.22464680e-16]\n",
      "[ 1.          0.93969262  0.76604444  0.5         0.17364818 -0.17364818\n",
      " -0.5        -0.76604444 -0.93969262 -1.        ]\n",
      "[ 0.00000000e+00  3.63970234e-01  8.39099631e-01  1.73205081e+00\n",
      "  5.67128182e+00 -5.67128182e+00 -1.73205081e+00 -8.39099631e-01\n",
      " -3.63970234e-01 -1.22464680e-16]\n",
      "[ 0.00000000e+00  3.63970234e-01  8.39099631e-01  1.73205081e+00\n",
      "  5.67128182e+00 -5.67128182e+00 -1.73205081e+00 -8.39099631e-01\n",
      " -3.63970234e-01 -1.22464680e-16]\n",
      "[0. 0. 0. 0. 0. 0. 0. 0. 0. 0.]\n"
     ]
    }
   ],
   "source": [
    "# Enter your code here\n",
    "q1 = np.linspace(0, np.pi, 10)\n",
    "print(q1)\n",
    "\n",
    "q2 = np.sin(q1) \n",
    "print(q2)\n",
    "\n",
    "q3 = np.cos(q1) \n",
    "print(q3)\n",
    "\n",
    "q4 = np.tan(q1) \n",
    "print(q4)\n",
    "\n",
    "q5 = q2/q3 \n",
    "print(q5)\n",
    "\n",
    "q6 = q5-q4\n",
    "print(q6)"
   ]
  },
  {
   "cell_type": "code",
   "execution_count": null,
   "metadata": {},
   "outputs": [],
   "source": []
  }
 ],
 "metadata": {
  "kernelspec": {
   "display_name": "Python 3 (ipykernel)",
   "language": "python",
   "name": "python3"
  },
  "language_info": {
   "codemirror_mode": {
    "name": "ipython",
    "version": 3
   },
   "file_extension": ".py",
   "mimetype": "text/x-python",
   "name": "python",
   "nbconvert_exporter": "python",
   "pygments_lexer": "ipython3",
   "version": "3.9.7"
  }
 },
 "nbformat": 4,
 "nbformat_minor": 4
}
